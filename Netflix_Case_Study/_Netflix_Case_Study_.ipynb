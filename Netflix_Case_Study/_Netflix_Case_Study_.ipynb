{
 "cells": [
  {
   "cell_type": "markdown",
   "id": "87003e3b",
   "metadata": {},
   "source": [
    "##  About Netflix\n",
    "\n",
    "Netflix is a leading global streaming service with over **222 million subscribers** as of mid-2021.  \n",
    "It offers a huge library of TV shows, movies, and documentaries across multiple genres and languages.\n",
    "\n",
    "This case study explores Netflixs dataset to better understand how its content performs across regions and what patterns can be uncovered from user preferences."
   ]
  },
  {
   "cell_type": "markdown",
   "id": "38bd404d",
   "metadata": {},
   "source": [
    "##  Problem Statement\n",
    "\n",
    "Using the available data, our goal is to extract meaningful insights that can help Netflix:\n",
    "\n",
    "1. Identify which types of content (movies/shows) perform best\n",
    "2. Understand regional content preferences to support expansion\n",
    "3. Predict which genres or formats are more likely to succeed in specific countries"
   ]
  },
  {
   "cell_type": "code",
   "execution_count": null,
   "id": "e0120193",
   "metadata": {},
   "outputs": [],
   "source": [
    "# Downloading the Netflix dataset from Google Drive\n",
    "# Only run this in Google Colab (not needed locally)\n",
    "!wget \"https://drive.google.com/uc?export=download&id=1-qDO7oNwzQn0RV44YtpqWdYS4SO3GkQg\" -O netflix_title.csv"
   ]
  },
  {
   "cell_type": "code",
   "execution_count": null,
   "id": "b9521204",
   "metadata": {},
   "outputs": [],
   "source": [
    "# Importing necessary libraries\n",
    "\n",
    "import pandas as pd\n",
    "import numpy as np\n",
    "import matplotlib.pyplot as plt\n",
    "import seaborn as sns\n",
    "import warnings\n",
    "warnings.filterwarnings('ignore')\n",
    "\n",
    "#  Load the dataset\n",
    "df = pd.read_csv('netflix_title.csv')\n",
    "\n",
    "# Quick confirmation\n",
    "print(\" Data loaded successfully! Total rows:\", df.shape[0])"
   ]
  },
  {
   "cell_type": "code",
   "execution_count": null,
   "id": "92b28ee9",
   "metadata": {},
   "outputs": [],
   "source": [
    "#  Let's take a quick peek at the dataset\n",
    "df.head()"
   ]
  },
  {
   "cell_type": "code",
   "execution_count": null,
   "id": "12b16a21",
   "metadata": {},
   "outputs": [],
   "source": [
    "#  Checking the size of the dataset\n",
    "rows, cols = df.shape\n",
    "print(f\" The dataset contains {rows} rows and {cols} columns.\")"
   ]
  },
  {
   "cell_type": "code",
   "execution_count": null,
   "id": "e93ebb85",
   "metadata": {},
   "outputs": [],
   "source": [
    "#  Overview of columns and data types\n",
    "print(\" Dataset Structure:\\n\")\n",
    "df.info()"
   ]
  },
  {
   "cell_type": "code",
   "execution_count": null,
   "id": "17c9425f",
   "metadata": {},
   "outputs": [],
   "source": [
    "#  Summary statistics for text-based columns\n",
    "df.describe(include='object')"
   ]
  },
  {
   "cell_type": "code",
   "execution_count": null,
   "id": "ea7c5090",
   "metadata": {},
   "outputs": [],
   "source": [
    "#  Let's check for missing values in the dataset\n",
    "print(\" Null values per column:\")\n",
    "print(df.isnull().sum().sort_values(ascending=False), \"\\n\")\n",
    "\n",
    "print(\" Null value percentage:\")\n",
    "null_percent = (df.isnull().sum() / len(df)) * 100\n",
    "print(null_percent.sort_values(ascending=False))"
   ]
  },
  {
   "cell_type": "code",
   "execution_count": null,
   "id": "a08e6f6b",
   "metadata": {},
   "outputs": [],
   "source": [
    "#  Handling missing data\n",
    "df = df[df['rating'].notna()]\n",
    "df = df[df['duration'].notna()]\n",
    "df = df[df['date_added'].notna()]\n",
    "df['country'].fillna('No Data', inplace=True)\n",
    "df['cast'].fillna('No Data', inplace=True)\n",
    "df['director'].fillna('No Data', inplace=True)\n",
    "df.isnull().sum()"
   ]
  },
  {
   "cell_type": "code",
   "execution_count": null,
   "id": "e5e89d16",
   "metadata": {},
   "outputs": [],
   "source": [
    "#  Convert 'date_added' to datetime and extract year, month, day\n",
    "df['date_added'] = pd.to_datetime(df['date_added'])\n",
    "df['added_year'] = df['date_added'].dt.year\n",
    "df['added_month'] = df['date_added'].dt.month\n",
    "df['added_day'] = df['date_added'].dt.day\n",
    "df.head(3)"
   ]
  },
  {
   "cell_type": "code",
   "execution_count": null,
   "id": "44dbf606",
   "metadata": {},
   "outputs": [],
   "source": [
    "#  Count of content types (Movie vs TV Show)\n",
    "content_counts = df['type'].value_counts()\n",
    "plt.figure(figsize=(6, 4))\n",
    "sns.barplot(x=content_counts.index, y=content_counts.values, palette=\"Set2\")\n",
    "plt.title(\"Content Type Distribution on Netflix\")\n",
    "plt.xlabel(\"Type of Content\")\n",
    "plt.ylabel(\"Count\")\n",
    "plt.grid(axis='y', linestyle='--', alpha=0.5)\n",
    "plt.tight_layout()\n",
    "plt.show()"
   ]
  },
  {
   "cell_type": "code",
   "execution_count": null,
   "id": "73947331",
   "metadata": {},
   "outputs": [],
   "source": [
    "#  How many unique countries are in the dataset?\n",
    "unique_countries = df['country'].nunique()\n",
    "print(f\" Netflix content spans across {unique_countries} unique countries.\")"
   ]
  },
  {
   "cell_type": "code",
   "execution_count": null,
   "id": "a3f88013",
   "metadata": {},
   "outputs": [],
   "source": [
    "#  Top 10 countries producing the most Netflix content\n",
    "top_countries = df['country'].value_counts().head(10)\n",
    "plt.figure(figsize=(8, 5))\n",
    "sns.barplot(x=top_countries.values, y=top_countries.index, palette=\"coolwarm\")\n",
    "plt.title(\"Top 10 Countries with Most Content on Netflix\")\n",
    "plt.xlabel(\"Number of Titles\")\n",
    "plt.ylabel(\"Country\")\n",
    "plt.grid(axis='x', linestyle='--', alpha=0.4)\n",
    "plt.tight_layout()\n",
    "plt.show()"
   ]
  },
  {
   "cell_type": "code",
   "execution_count": null,
   "id": "0a6dda16",
   "metadata": {},
   "outputs": [],
   "source": [
    "#  Most common genres in Netflix content\n",
    "genre_counts = df['listed_in'].str.split(', ', expand=True).stack().value_counts().head(10)\n",
    "plt.figure(figsize=(9, 5))\n",
    "sns.barplot(x=genre_counts.values, y=genre_counts.index, palette=\"mako\")\n",
    "plt.title(\"Top 10 Genres on Netflix\")\n",
    "plt.xlabel(\"Number of Titles\")\n",
    "plt.ylabel(\"Genre\")\n",
    "plt.grid(axis='x', linestyle='--', alpha=0.3)\n",
    "plt.tight_layout()\n",
    "plt.show()"
   ]
  },
  {
   "cell_type": "code",
   "execution_count": null,
   "id": "1e2a33c6",
   "metadata": {},
   "outputs": [],
   "source": [
    "#  Checking unique duration values\n",
    "print(\" Sample duration values:\")\n",
    "print(df['duration'].value_counts().head(10))"
   ]
  },
  {
   "cell_type": "code",
   "execution_count": null,
   "id": "6a4feb9c",
   "metadata": {},
   "outputs": [],
   "source": [
    "#  Let's analyze duration for movies\n",
    "df_movies = df[df['type'] == 'Movie'].copy()\n",
    "df_movies['duration_int'] = df_movies['duration'].str.extract('(\\d+)').astype(float)\n",
    "plt.figure(figsize=(8, 5))\n",
    "sns.histplot(df_movies['duration_int'], bins=30, kde=True, color='tomato')\n",
    "plt.title(\"Distribution of Movie Durations (in minutes)\")\n",
    "plt.xlabel(\"Duration (minutes)\")\n",
    "plt.ylabel(\"Frequency\")\n",
    "plt.grid(axis='y', linestyle='--', alpha=0.4)\n",
    "plt.tight_layout()\n",
    "plt.show()"
   ]
  },
  {
   "cell_type": "code",
   "execution_count": null,
   "id": "1e0d9d73",
   "metadata": {},
   "outputs": [],
   "source": [
    "#  Analyzing number of seasons for TV Shows\n",
    "df_shows = df[df['type'] == 'TV Show'].copy()\n",
    "df_shows['seasons'] = df_shows['duration'].str.extract('(\\d+)').astype(int)\n",
    "plt.figure(figsize=(8, 5))\n",
    "sns.countplot(x='seasons', data=df_shows, palette='crest')\n",
    "plt.title(\"Number of Seasons in Netflix TV Shows\")\n",
    "plt.xlabel(\"Number of Seasons\")\n",
    "plt.ylabel(\"Count of Shows\")\n",
    "plt.grid(axis='y', linestyle='--', alpha=0.3)\n",
    "plt.tight_layout()\n",
    "plt.show()"
   ]
  },
  {
   "cell_type": "code",
   "execution_count": null,
   "id": "5a491ee3",
   "metadata": {},
   "outputs": [],
   "source": [
    "#  How many titles were added each year?\n",
    "plt.figure(figsize=(10, 5))\n",
    "sns.countplot(x='added_year', data=df, palette='rocket', order=sorted(df['added_year'].dropna().unique()))\n",
    "plt.title(\"Netflix Titles Added by Year\")\n",
    "plt.xlabel(\"Year Added\")\n",
    "plt.ylabel(\"Number of Titles\")\n",
    "plt.xticks(rotation=45)\n",
    "plt.grid(axis='y', linestyle='--', alpha=0.4)\n",
    "plt.tight_layout()\n",
    "plt.show()"
   ]
  },
  {
   "cell_type": "code",
   "execution_count": null,
   "id": "7df8ed15",
   "metadata": {},
   "outputs": [],
   "source": [
    "#  Do some months have more content uploads than others?\n",
    "plt.figure(figsize=(9, 5))\n",
    "sns.countplot(x='added_month', data=df, palette='flare')\n",
    "plt.title(\"Netflix Content Added by Month\")\n",
    "plt.xlabel(\"Month\")\n",
    "plt.ylabel(\"Number of Titles\")\n",
    "plt.grid(axis='y', linestyle='--', alpha=0.3)\n",
    "plt.tight_layout()\n",
    "plt.show()"
   ]
  },
  {
   "cell_type": "code",
   "execution_count": null,
   "id": "eed51f80",
   "metadata": {},
   "outputs": [],
   "source": [
    "#  Most frequently appearing actors/actresses\n",
    "from collections import Counter\n",
    "cast_series = df['cast'].dropna().str.split(', ')\n",
    "flat_cast_list = [actor.strip() for sublist in cast_series for actor in sublist]\n",
    "top_actors = Counter(flat_cast_list).most_common(10)\n",
    "top_actors_df = pd.DataFrame(top_actors, columns=['Actor', 'Count'])\n",
    "plt.figure(figsize=(9, 5))\n",
    "sns.barplot(y='Actor', x='Count', data=top_actors_df, palette=\"viridis\")\n",
    "plt.title(\"Top 10 Most Featured Actors on Netflix\")\n",
    "plt.xlabel(\"Number of Appearances\")\n",
    "plt.ylabel(\"Actor Name\")\n",
    "plt.grid(axis='x', linestyle='--', alpha=0.4)\n",
    "plt.tight_layout()\n",
    "plt.show()"
   ]
  },
  {
   "cell_type": "markdown",
   "id": "1e65b609",
   "metadata": {},
   "source": [
    "---\n",
    "\n",
    "##  Summary\n",
    "\n",
    "In this case study, we explored:\n",
    "\n",
    "- Netflix's movie vs TV show distribution\n",
    "- Genre popularity and country-wise content spread\n",
    "- Year/month-based trends of added content\n",
    "- Actor/actress frequency\n",
    "- Duration and season breakdowns\n",
    "\n",
    "---\n",
    "\n",
    "##  Key Takeaways\n",
    "\n",
    "- Netflix pushes short-duration content, especially 1-season TV shows\n",
    "- Dramas and international content dominate the platform\n",
    "- The 20182020 phase was peak for content expansion\n",
    "\n",
    "---\n"
   ]
  }
 ],
 "metadata": {
  "language_info": {
   "name": "python"
  }
 },
 "nbformat": 4,
 "nbformat_minor": 5
}
